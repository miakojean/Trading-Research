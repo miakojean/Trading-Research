{
 "cells": [
  {
   "cell_type": "code",
   "execution_count": 1,
   "id": "4553d6db",
   "metadata": {},
   "outputs": [],
   "source": [
    "import pandas as pd\n",
    "import numpy as np\n",
    "import matplotlib.pyplot as plt\n",
    "import seaborn as sns"
   ]
  },
  {
   "cell_type": "code",
   "execution_count": 3,
   "id": "aa6a98fe",
   "metadata": {},
   "outputs": [
    {
     "data": {
      "text/html": [
       "<div>\n",
       "<style scoped>\n",
       "    .dataframe tbody tr th:only-of-type {\n",
       "        vertical-align: middle;\n",
       "    }\n",
       "\n",
       "    .dataframe tbody tr th {\n",
       "        vertical-align: top;\n",
       "    }\n",
       "\n",
       "    .dataframe thead th {\n",
       "        text-align: right;\n",
       "    }\n",
       "</style>\n",
       "<table border=\"1\" class=\"dataframe\">\n",
       "  <thead>\n",
       "    <tr style=\"text-align: right;\">\n",
       "      <th></th>\n",
       "      <th>Date</th>\n",
       "      <th>Close</th>\n",
       "      <th>High</th>\n",
       "      <th>Low</th>\n",
       "      <th>Open</th>\n",
       "      <th>Volume</th>\n",
       "      <th>returns</th>\n",
       "      <th>pct_returns</th>\n",
       "    </tr>\n",
       "  </thead>\n",
       "  <tbody>\n",
       "    <tr>\n",
       "      <th>0</th>\n",
       "      <td>1987-12-30</td>\n",
       "      <td>1005.190002</td>\n",
       "      <td>1005.190002</td>\n",
       "      <td>1005.190002</td>\n",
       "      <td>1005.190002</td>\n",
       "      <td>0</td>\n",
       "      <td>NaN</td>\n",
       "      <td>0.000000</td>\n",
       "    </tr>\n",
       "    <tr>\n",
       "      <th>1</th>\n",
       "      <td>1988-01-04</td>\n",
       "      <td>956.489990</td>\n",
       "      <td>956.489990</td>\n",
       "      <td>956.489990</td>\n",
       "      <td>956.489990</td>\n",
       "      <td>0</td>\n",
       "      <td>-0.048449</td>\n",
       "      <td>-4.844856</td>\n",
       "    </tr>\n",
       "    <tr>\n",
       "      <th>2</th>\n",
       "      <td>1988-01-05</td>\n",
       "      <td>996.099976</td>\n",
       "      <td>996.099976</td>\n",
       "      <td>996.099976</td>\n",
       "      <td>996.099976</td>\n",
       "      <td>0</td>\n",
       "      <td>0.041412</td>\n",
       "      <td>4.141181</td>\n",
       "    </tr>\n",
       "    <tr>\n",
       "      <th>3</th>\n",
       "      <td>1988-01-06</td>\n",
       "      <td>1006.010010</td>\n",
       "      <td>1006.010010</td>\n",
       "      <td>1006.010010</td>\n",
       "      <td>1006.010010</td>\n",
       "      <td>0</td>\n",
       "      <td>0.009949</td>\n",
       "      <td>0.994883</td>\n",
       "    </tr>\n",
       "    <tr>\n",
       "      <th>4</th>\n",
       "      <td>1988-01-07</td>\n",
       "      <td>1014.469971</td>\n",
       "      <td>1014.469971</td>\n",
       "      <td>1014.469971</td>\n",
       "      <td>1014.469971</td>\n",
       "      <td>0</td>\n",
       "      <td>0.008409</td>\n",
       "      <td>0.840942</td>\n",
       "    </tr>\n",
       "    <tr>\n",
       "      <th>5</th>\n",
       "      <td>1988-01-08</td>\n",
       "      <td>1026.689941</td>\n",
       "      <td>1026.689941</td>\n",
       "      <td>1026.689941</td>\n",
       "      <td>1026.689941</td>\n",
       "      <td>0</td>\n",
       "      <td>0.012046</td>\n",
       "      <td>1.204567</td>\n",
       "    </tr>\n",
       "    <tr>\n",
       "      <th>6</th>\n",
       "      <td>1988-01-11</td>\n",
       "      <td>987.520020</td>\n",
       "      <td>987.520020</td>\n",
       "      <td>987.520020</td>\n",
       "      <td>987.520020</td>\n",
       "      <td>0</td>\n",
       "      <td>-0.038152</td>\n",
       "      <td>-3.815166</td>\n",
       "    </tr>\n",
       "    <tr>\n",
       "      <th>7</th>\n",
       "      <td>1988-01-12</td>\n",
       "      <td>986.890015</td>\n",
       "      <td>986.890015</td>\n",
       "      <td>986.890015</td>\n",
       "      <td>986.890015</td>\n",
       "      <td>0</td>\n",
       "      <td>-0.000638</td>\n",
       "      <td>-0.063797</td>\n",
       "    </tr>\n",
       "    <tr>\n",
       "      <th>8</th>\n",
       "      <td>1988-01-13</td>\n",
       "      <td>965.770020</td>\n",
       "      <td>965.770020</td>\n",
       "      <td>965.770020</td>\n",
       "      <td>965.770020</td>\n",
       "      <td>0</td>\n",
       "      <td>-0.021401</td>\n",
       "      <td>-2.140056</td>\n",
       "    </tr>\n",
       "    <tr>\n",
       "      <th>9</th>\n",
       "      <td>1988-01-14</td>\n",
       "      <td>974.460022</td>\n",
       "      <td>974.460022</td>\n",
       "      <td>974.460022</td>\n",
       "      <td>974.460022</td>\n",
       "      <td>0</td>\n",
       "      <td>0.008998</td>\n",
       "      <td>0.899800</td>\n",
       "    </tr>\n",
       "  </tbody>\n",
       "</table>\n",
       "</div>"
      ],
      "text/plain": [
       "        Date        Close         High          Low         Open  Volume  \\\n",
       "0 1987-12-30  1005.190002  1005.190002  1005.190002  1005.190002       0   \n",
       "1 1988-01-04   956.489990   956.489990   956.489990   956.489990       0   \n",
       "2 1988-01-05   996.099976   996.099976   996.099976   996.099976       0   \n",
       "3 1988-01-06  1006.010010  1006.010010  1006.010010  1006.010010       0   \n",
       "4 1988-01-07  1014.469971  1014.469971  1014.469971  1014.469971       0   \n",
       "5 1988-01-08  1026.689941  1026.689941  1026.689941  1026.689941       0   \n",
       "6 1988-01-11   987.520020   987.520020   987.520020   987.520020       0   \n",
       "7 1988-01-12   986.890015   986.890015   986.890015   986.890015       0   \n",
       "8 1988-01-13   965.770020   965.770020   965.770020   965.770020       0   \n",
       "9 1988-01-14   974.460022   974.460022   974.460022   974.460022       0   \n",
       "\n",
       "    returns  pct_returns  \n",
       "0       NaN     0.000000  \n",
       "1 -0.048449    -4.844856  \n",
       "2  0.041412     4.141181  \n",
       "3  0.009949     0.994883  \n",
       "4  0.008409     0.840942  \n",
       "5  0.012046     1.204567  \n",
       "6 -0.038152    -3.815166  \n",
       "7 -0.000638    -0.063797  \n",
       "8 -0.021401    -2.140056  \n",
       "9  0.008998     0.899800  "
      ]
     },
     "execution_count": 3,
     "metadata": {},
     "output_type": "execute_result"
    }
   ],
   "source": [
    "dax = pd.read_excel('daxformm.xlsx')\n",
    "dax.head(10)"
   ]
  },
  {
   "cell_type": "code",
   "execution_count": 6,
   "id": "10a5f158",
   "metadata": {},
   "outputs": [
    {
     "data": {
      "image/png": "[encoded data removed]",
      "text/plain": [
       "<Figure size 1000x600 with 1 Axes>"
      ]
     },
     "metadata": {},
     "output_type": "display_data"
    }
   ],
   "source": [
    "# Création de l'histogramme avec Seaborn\n",
    "plt.figure(figsize=(10, 6))  # Taille du graphique\n",
    "sns.histplot(\n",
    "    data=dax,\n",
    "    x='pct_returns',\n",
    "    bins=50,  # Nombre de barres (ajustable)\n",
    "    kde=True,  # Courbe de densité\n",
    "    color='skyblue',\n",
    "    edgecolor='white'  # Bordure des barres\n",
    ")\n",
    "\n",
    "# Personnalisation\n",
    "plt.title('Distribution des Rendements du dax', fontsize=15)\n",
    "plt.xlabel('Rendements (%)', fontsize=12)\n",
    "plt.ylabel('Fréquence', fontsize=12)\n",
    "plt.grid(axis='y', linestyle='--', alpha=0.7)  # Grille horizontale\n",
    "\n",
    "# Affichage\n",
    "plt.show()\n"
   ]
  },
  {
   "cell_type": "code",
   "execution_count": 9,
   "id": "8e60d992",
   "metadata": {},
   "outputs": [
    {
     "name": "stdout",
     "output_type": "stream",
     "text": [
      "Jarque-Bera Test: Stat=17117.6752, p-value=0.0000\n",
      "Skewness: -0.1264, Kurtosis: 6.5872\n"
     ]
    }
   ],
   "source": [
    "from scipy.stats import jarque_bera\n",
    "\n",
    "# Calcul du test Jarque-Bera (retourne seulement stat et p-value)\n",
    "stat, p_value = jarque_bera(dax['pct_returns'].dropna())\n",
    "\n",
    "# Calcul séparé de la skewness et kurtosis\n",
    "skewness = dax['returns'].skew()\n",
    "kurtosis = dax['returns'].kurtosis()  # Kurtosis excès (0 pour une normale)\n",
    "\n",
    "print(f\"Jarque-Bera Test: Stat={stat:.4f}, p-value={p_value:.4f}\")\n",
    "print(f\"Skewness: {skewness:.4f}, Kurtosis: {kurtosis:.4f}\")"
   ]
  },
  {
   "cell_type": "code",
   "execution_count": 10,
   "id": "dc9a8031",
   "metadata": {},
   "outputs": [
    {
     "name": "stdout",
     "output_type": "stream",
     "text": [
      "Shapiro-Wilk Test: Stat=0.9376, p-value=0.0000\n",
      "Les données ne suivent pas une loi normale (rejette H0)\n"
     ]
    },
    {
     "name": "stderr",
     "output_type": "stream",
     "text": [
      "c:\\users\\hp\\documents\\trading research\\env\\Lib\\site-packages\\scipy\\stats\\_axis_nan_policy.py:586: UserWarning: scipy.stats.shapiro: For N > 5000, computed p-value may not be accurate. Current N is 9462.\n",
      "  res = hypotest_fun_out(*samples, **kwds)\n"
     ]
    }
   ],
   "source": [
    "from scipy.stats import shapiro\n",
    "\n",
    "# Supposons que 'returns' est une série pandas des rendements\n",
    "stat, p_value = shapiro(dax['returns'].dropna())\n",
    "print(f\"Shapiro-Wilk Test: Stat={stat:.4f}, p-value={p_value:.4f}\")\n",
    "\n",
    "if p_value > 0.05:\n",
    "    print(\"Les données suivent une loi normale (ne rejette pas H0)\")\n",
    "else:\n",
    "    print(\"Les données ne suivent pas une loi normale (rejette H0)\")"
   ]
  }
 ],
 "metadata": {
  "kernelspec": {
   "display_name": "env",
   "language": "python",
   "name": "python3"
  },
  "language_info": {
   "codemirror_mode": {
    "name": "ipython",
    "version": 3
   },
   "file_extension": ".py",
   "mimetype": "text/x-python",
   "name": "python",
   "nbconvert_exporter": "python",
   "pygments_lexer": "ipython3",
   "version": "3.12.8"
  }
 },
 "nbformat": 4,
 "nbformat_minor": 5
}
